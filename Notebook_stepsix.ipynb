{
 "cells": [
  {
   "cell_type": "markdown",
   "metadata": {
    "colab_type": "text",
    "id": "cf5CmXQCZyF1"
   },
   "source": [
    "# Guided Capstone Step 6. Documentation"
   ]
  },
  {
   "cell_type": "markdown",
   "metadata": {
    "colab_type": "text",
    "id": "JbZXsVevfr9M"
   },
   "source": [
    "**The Data Science Method**  \n",
    "\n",
    "\n",
    "1.   Problem Identification \n",
    "\n",
    "2.   Data Wrangling \n",
    "  \n",
    "3.   Exploratory Data Analysis \n",
    " \n",
    "4.   Pre-processing and Training Data Development\n",
    "\n",
    "5.  Modeling\n",
    "\n",
    "6.   **Documentation**\n",
    "  * Review the Results\n",
    "  * Finalize Code \n",
    "  * Finalize Documentation\n",
    "  * Create a Project Report \n",
    "  * Create a Slide Deck for the Executive Audience"
   ]
  },
  {
   "cell_type": "markdown",
   "metadata": {
    "colab_type": "text",
    "id": "D-oGciwnGUYk"
   },
   "source": [
    "In this guided capstone we are going to revisit many of the actions we took in the previous guided capstone steps. This gives you the opportunity to practice the code you wrote to solve the questions in step 4 and 5. "
   ]
  },
  {
   "cell_type": "markdown",
   "metadata": {
    "colab_type": "text",
    "id": "K8xfkAqqZyF2"
   },
   "source": [
    "**<font color='teal'> Start by loading the necessary packages and printing out our current working directory just to confirm we are in the correct project directory. </font>**"
   ]
  },
  {
   "cell_type": "code",
   "execution_count": 1,
   "metadata": {
    "colab": {},
    "colab_type": "code",
    "id": "ry6WPL5eZyF3"
   },
   "outputs": [
    {
     "data": {
      "text/plain": [
       "['.DS_Store',\n",
       " '.ipynb_checkpoints',\n",
       " 'data',\n",
       " 'figures',\n",
       " 'GuidedCapstoneStep4 and step5HL.ipynb',\n",
       " 'GuidedCapstoneStep6HL.ipynb',\n",
       " 'GuidedCapstone_Step2HL (1).ipynb',\n",
       " 'models',\n",
       " 'Notebook_stepfour-checkpoint.ipynb',\n",
       " 'Notebook_stepfourandfive.ipynb',\n",
       " 'Notebook_stepthree.ipynb',\n",
       " 'Notebook_steptwo.ipynb',\n",
       " 'updated_ski_data (1).csv',\n",
       " 'updated_ski_data.csv',\n",
       " '__MACOSX']"
      ]
     },
     "execution_count": 1,
     "metadata": {},
     "output_type": "execute_result"
    }
   ],
   "source": [
    "import os\n",
    "import pandas as pd\n",
    "import numpy as np\n",
    "import datetime\n",
    "import seaborn as sns\n",
    "import matplotlib.pyplot as plt\n",
    "%matplotlib inline\n",
    "os.listdir()"
   ]
  },
  {
   "cell_type": "markdown",
   "metadata": {
    "colab_type": "text",
    "id": "0HTP9cF2GUYs"
   },
   "source": [
    "## Fit Models with Training Dataset"
   ]
  },
  {
   "cell_type": "markdown",
   "metadata": {
    "colab_type": "text",
    "id": "A2FmSbtCGUYt"
   },
   "source": [
    "**<font color='teal'> Using sklearn fit the model you chose in Guided Capstone 5 on your training dataset. This includes: creating dummy features for states if you need them, scaling the data,and creating train and test splits before fitting the chosen model.Also, remember to generate a model performance score(MAE, or explained variance) based on the testing hold-out data set.</font>**"
   ]
  },
  {
   "cell_type": "markdown",
   "metadata": {
    "colab_type": "text",
    "id": "ReRSy1yFGUYu"
   },
   "source": [
    "#### Best Model "
   ]
  },
  {
   "cell_type": "code",
   "execution_count": 29,
   "metadata": {
    "colab": {},
    "colab_type": "code",
    "id": "YRhPGbqPGUYv"
   },
   "outputs": [
    {
     "name": "stdout",
     "output_type": "stream",
     "text": [
      "0.9239026961723046\n"
     ]
    },
    {
     "data": {
      "text/plain": [
       "5.531090105110689"
      ]
     },
     "execution_count": 29,
     "metadata": {},
     "output_type": "execute_result"
    }
   ],
   "source": [
    "from sklearn import preprocessing\n",
    "from sklearn.model_selection import train_test_split\n",
    "from sklearn import linear_model\n",
    "from sklearn.metrics import explained_variance_score, mean_absolute_error\n",
    "file = 'data/step3_output.csv'\n",
    "df = pd.read_csv(file)\n",
    "X = df.drop(['Name', 'AdultWeekend', 'state' , 'summit_elev', 'base_elev'], axis = 1)\n",
    "y = df.AdultWeekend\n",
    "scaler = preprocessing.StandardScaler().fit(X)\n",
    "X_scaled = scaler.transform(X)\n",
    "y = y.ravel()\n",
    "X_train, X_test, y_train, y_test = train_test_split(X_scaled, y, test_size=0.25, random_state=1)\n",
    "lm = linear_model.LinearRegression()\n",
    "model = lm.fit(X_train, y_train)\n",
    "y_pred = model.predict(X_test)\n",
    "print(explained_variance_score(y_test, y_pred))\n",
    "mean_absolute_error(y_test, y_pred)\n",
    "    "
   ]
  },
  {
   "cell_type": "markdown",
   "metadata": {
    "colab_type": "text",
    "id": "GGizyeLZGUYz"
   },
   "source": [
    "## Review the results "
   ]
  },
  {
   "cell_type": "markdown",
   "metadata": {
    "colab_type": "text",
    "id": "4Lhu-qisGUY0"
   },
   "source": [
    "**<font color='teal'> Now, let's predict the Big Mountain Weekend price with our model in order to provide a recommendation to our managers on how to price the `AdultWeekend` lift ticket. First we need to find the row for Big Mountain resort in our data using string contains or string matching.</font>**"
   ]
  },
  {
   "cell_type": "code",
   "execution_count": 24,
   "metadata": {
    "colab": {},
    "colab_type": "code",
    "id": "YXnx_IuEGUY1"
   },
   "outputs": [
    {
     "data": {
      "text/plain": [
       "['49 Degrees North',\n",
       " 'Afton Alps',\n",
       " 'Alpental',\n",
       " 'Alpine Valley',\n",
       " 'Alpine Valley Resort',\n",
       " 'Alpine Valley Ski Area',\n",
       " 'Alta Ski Area',\n",
       " 'Alyeska Resort',\n",
       " 'Andes Tower Hills Ski Area',\n",
       " 'Angel Fire Resort',\n",
       " 'Anthony Lakes Mountain Resort',\n",
       " 'Appalachian Ski Mountain',\n",
       " 'Apple Mountain',\n",
       " 'Arapahoe Basin Ski Area',\n",
       " 'Arizona Snowbowl',\n",
       " 'Aspen / Snowmass',\n",
       " 'Attitash',\n",
       " 'Bear Creek Mountain Resort',\n",
       " 'Bear Mountain',\n",
       " 'Bear Valley',\n",
       " 'Beaver Creek',\n",
       " 'Beaver Mountain',\n",
       " 'Beech Mountain Resort',\n",
       " 'Belleayre',\n",
       " 'Berkshire East',\n",
       " 'Big Boulder',\n",
       " 'Big Mountain Resort',\n",
       " 'Big Powderhorn Mountain',\n",
       " 'Big Sky Resort',\n",
       " 'Big Snow Resort - Blackjack',\n",
       " 'Big Snow Resort - Indianhead Mountain',\n",
       " 'Big Squaw Mountain Ski Resort',\n",
       " 'Bittersweet Ski Area',\n",
       " 'Black Mountain',\n",
       " 'Blacktail Mountain Ski Area',\n",
       " 'Blandford Ski Area',\n",
       " 'Blue Hills Ski Area',\n",
       " 'Blue Knob',\n",
       " 'Blue Mountain Resort',\n",
       " 'Bluewood',\n",
       " 'Bogus Basin',\n",
       " 'Bolton Valley',\n",
       " 'Boreal Mountain Resort',\n",
       " 'Boston Mills',\n",
       " 'Bousquet Ski Area',\n",
       " 'Boyne Highlands',\n",
       " 'Boyne Mountain Resort',\n",
       " 'Bradford Ski Area',\n",
       " 'Brandywine',\n",
       " 'Brantling Ski Slopes',\n",
       " 'Breckenridge',\n",
       " 'Bretton Woods',\n",
       " 'Brian Head Resort',\n",
       " 'Bridger Bowl',\n",
       " 'Brighton Resort',\n",
       " 'Bristol Mountain',\n",
       " 'Bromley Mountain',\n",
       " 'Bruce Mound',\n",
       " 'Brundage Mountain Resort',\n",
       " 'Bryce Resort',\n",
       " 'Buck Hill',\n",
       " 'Buena Vista Ski Area',\n",
       " 'Buffalo Ski Club Ski Area',\n",
       " 'Burke Mountain',\n",
       " 'Caberfae Peaks',\n",
       " 'Camden Snow Bowl',\n",
       " 'Camelback Mountain Resort',\n",
       " 'Campgaw Mountain',\n",
       " 'Canaan Valley Resort',\n",
       " 'Cannon Mountain',\n",
       " 'Cannonsburg',\n",
       " 'Cascade Mountain',\n",
       " 'Cataloochee Ski Area',\n",
       " 'Catamount',\n",
       " 'Chestnut Mountain Resort',\n",
       " 'Christie Mountain',\n",
       " 'Christmas Mountain',\n",
       " 'Coffee Mill Ski & Snowboard Resort',\n",
       " 'Cooper',\n",
       " 'Cooper Spur',\n",
       " 'Copper Mountain Resort',\n",
       " 'Cranmore Mountain Resort',\n",
       " 'Crested Butte Mountain Resort',\n",
       " 'Crotched Mountain',\n",
       " 'Crystal Mountain',\n",
       " 'Crystal Mountain',\n",
       " 'Dartmouth Skiway',\n",
       " 'Deer Mountain Ski Resort',\n",
       " 'Deer Valley Resort',\n",
       " 'Devils Head',\n",
       " 'Diamond Peak',\n",
       " 'Discovery Ski Area',\n",
       " 'Dodge Ridge',\n",
       " 'Donner Ski Ranch',\n",
       " 'Dry Hill Ski Area',\n",
       " 'Eagle Point',\n",
       " 'Eagle Rock',\n",
       " 'Eaglecrest Ski Area',\n",
       " 'Eldora Mountain Resort',\n",
       " 'Elk Mountain Ski Resort',\n",
       " 'Elko SnoBowl',\n",
       " 'Elm Creek Winter Recreation Area',\n",
       " 'Enchanted Forest Ski Area',\n",
       " 'Four Lakes',\n",
       " 'Giants Ridge Resort',\n",
       " 'Gore Mountain',\n",
       " 'Grand Geneva',\n",
       " 'Grand Targhee Resort',\n",
       " 'Granite Peak Ski Area',\n",
       " 'Great Divide',\n",
       " 'Greek Peak',\n",
       " 'Gunstock',\n",
       " 'Heavenly Mountain Resort',\n",
       " 'Hidden Valley Ski Area',\n",
       " 'Hilltop Ski Area',\n",
       " 'Hogadon Basin',\n",
       " 'Holiday Mountain',\n",
       " 'Holiday Valley',\n",
       " 'Holimont Ski Area',\n",
       " 'Hoodoo Ski Area',\n",
       " 'Howelsen Hill',\n",
       " 'Hunt Hollow Ski Club',\n",
       " 'Hunter Mountain',\n",
       " 'Hyland Ski & Snowboard Area',\n",
       " 'Jack Frost',\n",
       " 'Jackson Hole',\n",
       " 'Jay Peak',\n",
       " 'Jiminy Peak',\n",
       " 'June Mountain',\n",
       " 'Kelly Canyon Ski Area',\n",
       " 'Keystone',\n",
       " 'Killington Resort',\n",
       " 'King Pine',\n",
       " 'Kirkwood',\n",
       " 'Kissing Bridge',\n",
       " 'Labrador Mt.',\n",
       " 'Lee Canyon',\n",
       " 'Liberty',\n",
       " 'Little Switzerland',\n",
       " 'Lookout Pass Ski Area',\n",
       " 'Loon Mountain',\n",
       " 'Lost Trail - Powder Mtn',\n",
       " 'Lost Valley',\n",
       " 'Loveland',\n",
       " 'Lutsen Mountains',\n",
       " 'Mad River Glen',\n",
       " 'Mad River Mountain',\n",
       " 'Magic Mountain',\n",
       " 'Magic Mountain Ski Area',\n",
       " 'Mammoth Mountain Ski Area',\n",
       " 'Maple Ski Ridge',\n",
       " 'Marquette Mountain',\n",
       " 'Massanutten',\n",
       " 'Maverick Mountain',\n",
       " 'McCauley Mountain Ski Center',\n",
       " 'Meadowlark Ski Lodge',\n",
       " 'Mission Ridge',\n",
       " 'Mohawk Mountain',\n",
       " 'Monarch Mountain',\n",
       " 'Mont Ripley',\n",
       " 'Montage Mountain',\n",
       " 'Montana Snowbowl',\n",
       " 'Mount Bohemia',\n",
       " 'Mount Holly',\n",
       " 'Mount Kato Ski Area',\n",
       " 'Mount La Crosse',\n",
       " 'Mount Peter Ski Area',\n",
       " 'Mount Pleasant of Edinboro',\n",
       " 'Mount Snow',\n",
       " 'Mount Southington Ski Area',\n",
       " 'Mount Sunapee',\n",
       " 'Mountain Creek Resort',\n",
       " 'Mountain High',\n",
       " 'Mt. Abram Ski Resort',\n",
       " 'Mt. Ashland',\n",
       " 'Mt. Bachelor',\n",
       " 'Mt. Baker',\n",
       " 'Mt. Baldy',\n",
       " 'Mt. Brighton',\n",
       " 'Mt. Crescent Ski Area',\n",
       " 'Mt. Holiday Ski Area',\n",
       " 'Mt. Hood Meadows',\n",
       " 'Mt. Hood Skibowl',\n",
       " 'Mt. Jefferson',\n",
       " 'Mt. Rose - Ski Tahoe',\n",
       " 'Mt. Shasta Ski Park',\n",
       " 'Mt. Spokane Ski and Snowboard Park',\n",
       " \"Mulligan's Hollow Ski Bowl\",\n",
       " 'Nashoba Valley',\n",
       " 'New Hermon Mountain',\n",
       " 'Nordic Mountain',\n",
       " 'Nordic Valley Resort',\n",
       " 'Northstar California',\n",
       " 'Norway Mountain',\n",
       " 'Nubs Nob Ski Area',\n",
       " 'Oak Mountain',\n",
       " 'Ober Gatlinburg Ski Resort',\n",
       " 'Okemo Mountain Resort',\n",
       " 'Otis Ridge Ski Area',\n",
       " 'Pajarito Mountain Ski Area',\n",
       " 'Paoli Peaks',\n",
       " 'Park City',\n",
       " 'Pats Peak',\n",
       " 'Pebble Creek Ski Area',\n",
       " \"Peek'n Peak\",\n",
       " 'Perfect North Slopes',\n",
       " 'Pico Mountain',\n",
       " 'Pine Knob Ski Resort',\n",
       " 'Pine Mountain',\n",
       " 'Plattekill Mountain',\n",
       " 'Pomerelle Mountain Resort',\n",
       " 'Powder Mountain',\n",
       " 'Powder Ridge Park',\n",
       " 'Powder Ridge Ski Area',\n",
       " 'Powderhorn',\n",
       " 'Purgatory',\n",
       " 'Ragged Mountain Resort',\n",
       " 'Red Lodge Mountain',\n",
       " 'Red River',\n",
       " 'Roundtop Mountain Resort',\n",
       " 'Royal Mountain Ski Area',\n",
       " 'Sandia Peak',\n",
       " 'Sapphire Valley',\n",
       " 'Schuss Mountain at Shanty Creek',\n",
       " 'Schweitzer',\n",
       " 'Seven Oaks',\n",
       " 'Seven Springs',\n",
       " 'Shawnee Mountain Ski Area',\n",
       " 'Shawnee Peak',\n",
       " 'Showdown Montana',\n",
       " 'Sierra-at-Tahoe',\n",
       " 'Silver Mountain',\n",
       " 'Silverton Mountain',\n",
       " 'Sipapu Ski Resort',\n",
       " 'Ski Apache',\n",
       " 'Ski Big Bear',\n",
       " 'Ski Brule',\n",
       " 'Ski Butternut',\n",
       " 'Ski China Peak',\n",
       " 'Ski Granby Ranch',\n",
       " 'Ski Santa Fe',\n",
       " 'Ski Sawmill',\n",
       " 'Ski Snowstar Winter Sports Park',\n",
       " 'Ski Sundown',\n",
       " 'Ski Ward',\n",
       " 'Sleeping Giant Ski Resort',\n",
       " \"Smugglers' Notch Resort\",\n",
       " 'Snow Creek',\n",
       " 'Snow King Resort',\n",
       " 'Snow Ridge',\n",
       " 'Snow Snake Mountain Ski Area',\n",
       " 'Snow Summit',\n",
       " 'Snow Trails',\n",
       " 'Snow Valley',\n",
       " 'Snowbasin',\n",
       " 'Snowbird',\n",
       " 'Snowshoe Mountain Resort',\n",
       " 'Snowy Range Ski & Recreation Area',\n",
       " 'Soda Springs',\n",
       " 'Soldier Mountain Ski Area',\n",
       " 'Solitude Mountain Resort',\n",
       " 'Song Mountain',\n",
       " 'Spirit Mountain',\n",
       " 'Spout Springs',\n",
       " 'Spring Mountain Ski Area',\n",
       " 'Steamboat',\n",
       " 'Stevens Pass Resort',\n",
       " 'Stowe Mountain Resort',\n",
       " 'Stratton Mountain',\n",
       " 'Sugar Bowl Resort',\n",
       " 'Sugar Mountain Resort',\n",
       " 'Sugarbush',\n",
       " 'Sugarloaf',\n",
       " 'Suicide Six',\n",
       " 'Sun Valley',\n",
       " 'Sunburst',\n",
       " 'Sundance',\n",
       " 'Sunday River',\n",
       " 'Sundown Mountain',\n",
       " 'Sunlight Mountain Resort',\n",
       " 'Sunrise Park Resort',\n",
       " 'Swain',\n",
       " 'Swiss Valley',\n",
       " 'Tahoe Donner',\n",
       " 'Tamarack Resort',\n",
       " 'Taos Ski Valley',\n",
       " 'Telluride',\n",
       " 'Terry Peak Ski Area',\n",
       " 'Teton Pass Ski Resort',\n",
       " 'The Homestead',\n",
       " 'The Homestead Ski Area',\n",
       " 'The Summit at Snoqualmie',\n",
       " 'Thunder Ridge',\n",
       " 'Timber Ridge',\n",
       " 'Timberline Four Seasons',\n",
       " 'Timberline Lodge',\n",
       " 'Titus Mountain',\n",
       " 'Toggenburg Mountain',\n",
       " 'Treetops Resort',\n",
       " 'Trollhaugen',\n",
       " 'Tussey Mountain',\n",
       " 'Tyrol Basin',\n",
       " 'Vail',\n",
       " 'Villa Olivia',\n",
       " 'Wachusett Mountain Ski Area',\n",
       " 'Waterville Valley',\n",
       " 'Welch Village',\n",
       " 'West Mountain',\n",
       " 'Whaleback Mountain',\n",
       " 'White Pass',\n",
       " 'White Pine Ski Area',\n",
       " 'Whitecap Mountain',\n",
       " 'Whiteface Mountain Resort',\n",
       " 'Whitetail Resort',\n",
       " 'Wild Mountain Ski & Snowboard Area',\n",
       " 'Wildcat Mountain',\n",
       " 'Willamette Pass',\n",
       " 'Willard Mountain',\n",
       " 'Wilmot Mountain',\n",
       " 'Windham Mountain',\n",
       " 'Winter Park Resort',\n",
       " 'Wintergreen Resort',\n",
       " 'Winterplace Ski Resort',\n",
       " 'Wisp',\n",
       " 'Wolf Creek Ski Area',\n",
       " 'Wolf Ridge Ski Resort',\n",
       " 'Woodbury Ski Area',\n",
       " 'Woods Valley Ski Area',\n",
       " 'Yawgoo Valley',\n",
       " 'Yosemite Ski & Snowboard Area']"
      ]
     },
     "execution_count": 24,
     "metadata": {},
     "output_type": "execute_result"
    }
   ],
   "source": [
    "df[df['Name'].str.contains('Big Mountain Resort')]\n",
    "list(df.Name.sort_values())"
   ]
  },
  {
   "cell_type": "markdown",
   "metadata": {
    "colab_type": "text",
    "id": "83-jO9hPGUY4"
   },
   "source": [
    "**<font color='teal'> Prepare the Big Mountain resort data row as you did in the model fitting stage.</font>**"
   ]
  },
  {
   "cell_type": "code",
   "execution_count": 26,
   "metadata": {
    "colab": {},
    "colab_type": "code",
    "id": "oWH_q9YOGUY5"
   },
   "outputs": [],
   "source": [
    "bigMountain = df[df['Name'].str.contains('Big Mountain')]\n",
    "bigMountain = bigMountain.drop(columns=['state', 'Name'])"
   ]
  },
  {
   "cell_type": "markdown",
   "metadata": {
    "colab_type": "text",
    "id": "2BCFqZYBGUY9"
   },
   "source": [
    "**<font color='teal'> Predict the Big Mountain resort `Adult Weekend` price and print it out.</font>** This is our expected price to present to management. Based on our model given the characteristics of the resort in comparison to other ski resorts and their unique characteristics."
   ]
  },
  {
   "cell_type": "code",
   "execution_count": 30,
   "metadata": {
    "colab": {},
    "colab_type": "code",
    "id": "XebWxxTMGUY-"
   },
   "outputs": [],
   "source": [
    "BM_scaled = scaler.transform(df[df['Name'].str.contains('Big Mountain')].drop(['Name', 'AdultWeekend', 'state', 'summit_elev', 'base_elev'], axis=1))"
   ]
  },
  {
   "cell_type": "markdown",
   "metadata": {
    "colab_type": "text",
    "id": "_5BvguMLGUZB"
   },
   "source": [
    "**<font color='teal'> Print the Big Mountain resort actual `Adult Weekend` price.</font>**"
   ]
  },
  {
   "cell_type": "code",
   "execution_count": 31,
   "metadata": {
    "colab": {},
    "colab_type": "code",
    "id": "WyxTHtL2GUZC"
   },
   "outputs": [
    {
     "name": "stdout",
     "output_type": "stream",
     "text": [
      "The expected Big Mountain Resort adult weekend price is $88.77425625629095 \n"
     ]
    }
   ],
   "source": [
    "BM_pred = model.predict(BM_scaled)\n",
    "print('The expected Big Mountain Resort adult weekend price is $%s ' % ' '.join(map(str, BM_pred)))"
   ]
  },
  {
   "cell_type": "code",
   "execution_count": 32,
   "metadata": {},
   "outputs": [
    {
     "name": "stdout",
     "output_type": "stream",
     "text": [
      "The actual Big Mountain Resort adult weekend price is $81.0 \n"
     ]
    }
   ],
   "source": [
    "ac = df[df['Name'].str.contains('Big Mountain')]\n",
    "print(\"The actual Big Mountain Resort adult weekend price is $%s \" % ' '.join(map(str, ac.AdultWeekend)))"
   ]
  },
  {
   "cell_type": "markdown",
   "metadata": {
    "colab_type": "text",
    "id": "O0Yli8MXGUZH"
   },
   "source": [
    "**<font color='teal'> As part of reviewing the results it is an important step to generate figures to visualize the data story. We can use the clusters we added to our data frame to create scatter plots for visualizing the Adult Weekend values compared to other characteristics. Run the example below to get you started and build two or three more figures to include in your data story telling.</font>**"
   ]
  },
  {
   "cell_type": "code",
   "execution_count": 33,
   "metadata": {
    "colab": {},
    "colab_type": "code",
    "id": "xWtr873fGUZI"
   },
   "outputs": [
    {
     "data": {
      "image/png": "[encoded data removed]",
      "text/plain": [
       "<Figure size 432x288 with 1 Axes>"
      ]
     },
     "metadata": {},
     "output_type": "display_data"
    }
   ],
   "source": [
    "plt.scatter(df['summit_elev'], df['vertical_drop'], c=df['clusters'], s=50, cmap='viridis', label ='clusters')\n",
    "plt.scatter(ac['summit_elev'], ac['vertical_drop'], c='black', s=100)\n",
    "plt.xlabel('summit_elev')\n",
    "plt.ylabel('vertical_drop')\n",
    "plt.title('summit_elev by vertical_drop by cluster')\n",
    "plt.savefig('figures/fig1.png',bbox_inches='tight')"
   ]
  },
  {
   "cell_type": "code",
   "execution_count": 34,
   "metadata": {
    "colab": {},
    "colab_type": "code",
    "id": "530JtuJxGUZL"
   },
   "outputs": [
    {
     "data": {
      "image/png": "[encoded data removed]",
      "text/plain": [
       "<Figure size 432x288 with 1 Axes>"
      ]
     },
     "metadata": {},
     "output_type": "display_data"
    }
   ],
   "source": [
    "# argument for the necessity of additional chairlifts to accomodate guests in order to ensure a good experience.\n",
    "plt.scatter(df['SkiableTerrain_ac'], df['total_chairs'], c = df['clusters'], s= 50, cmap='viridis', label='clusters')\n",
    "plt.plot(df['SkiableTerrain_ac'][151], df['total_chairs'][151], 'r*')\n",
    "plt.plot(df['SkiableTerrain_ac'], np.poly1d(np.polyfit(df['SkiableTerrain_ac'], df['total_chairs'], 1))(df['SkiableTerrain_ac']))\n",
    "plt.savefig('figures/fig2.png', bbox_inches='tight')"
   ]
  },
  {
   "cell_type": "code",
   "execution_count": 35,
   "metadata": {},
   "outputs": [
    {
     "data": {
      "image/png": "[encoded data removed]",
      "text/plain": [
       "<Figure size 432x288 with 1 Axes>"
      ]
     },
     "metadata": {},
     "output_type": "display_data"
    }
   ],
   "source": [
    "sns.regplot(x='AdultWeekend', y='SkiableTerrain_ac', data=df[(df['SkiableTerrain_ac']<25000)])\n",
    "plt.scatter(x='AdultWeekend', y='SkiableTerrain_ac', data=bigMountain, c='black', s=100)\n",
    "plt.savefig('figures/fig3.png', bbox_inches='tight')"
   ]
  },
  {
   "cell_type": "code",
   "execution_count": 36,
   "metadata": {},
   "outputs": [
    {
     "data": {
      "image/png": "[encoded data removed]",
      "text/plain": [
       "<Figure size 432x432 with 3 Axes>"
      ]
     },
     "metadata": {},
     "output_type": "display_data"
    }
   ],
   "source": [
    "sns.set(style=\"ticks\")\n",
    "sns.jointplot(x=df['AdultWeekend'], y=df['daysOpenLastYear'], kind='hex', color='#4CB391')\n",
    "plt.savefig('figures/fig4.png', bbox_inches='tight')"
   ]
  },
  {
   "cell_type": "markdown",
   "metadata": {
    "colab_type": "text",
    "id": "giLKE2WMGUZh"
   },
   "source": [
    "## Finalize Code"
   ]
  },
  {
   "cell_type": "markdown",
   "metadata": {
    "colab_type": "text",
    "id": "pps_ASHoGUZi"
   },
   "source": [
    " Making sure our code is well organized and easy to follow is an important step. This is the time where you need to review the notebooks and Python scripts you've created and clean them up so they are easy to follow and succinct in nature. Addtionally, we will also save our final model as a callable object using Pickle for future use in a data pipeline. Pickle is a module that serializes (and de-serializes) Python objects so that they can become executable objects like functions. It's used extensively in production environments where machine learning models are deployed on an industrial scale!**<font color='teal'> Run the example code below to save out your callable model. Notice that we save it in the models folder we created in our previous guided capstone step.</font>** "
   ]
  },
  {
   "cell_type": "code",
   "execution_count": 17,
   "metadata": {
    "colab": {},
    "colab_type": "code",
    "id": "X_h0tkt_GUZj"
   },
   "outputs": [
    {
     "data": {
      "text/plain": [
       "['models/regression_model_adultweekend.joblib']"
      ]
     },
     "execution_count": 17,
     "metadata": {},
     "output_type": "execute_result"
    }
   ],
   "source": [
    "import pickle\n",
    "s = pickle.dumps(model)\n",
    "from joblib import dump, load\n",
    "dump(model, 'models/regression_model_adultweekend.joblib') "
   ]
  },
  {
   "cell_type": "markdown",
   "metadata": {
    "colab_type": "text",
    "id": "MTVrVlerGUZn"
   },
   "source": [
    "## Finalize Documentation"
   ]
  },
  {
   "cell_type": "markdown",
   "metadata": {
    "colab_type": "text",
    "id": "thEMyu-DGUZo"
   },
   "source": [
    "For model documentation, we want to save the model performance metrics as well as the features included in the final model. You could also save the model perfomance metrics and coefficients fo the other models you tried in case you want to refer to them later. **<font color='teal'> Create a dataframe containing the coefficients and the model performance metrics and save it out as a csv file, then upload it to your github repository.</font>** "
   ]
  },
  {
   "cell_type": "code",
   "execution_count": 37,
   "metadata": {
    "colab": {},
    "colab_type": "code",
    "id": "278tnHLlGUZp"
   },
   "outputs": [],
   "source": [
    "coeff_df = pd.DataFrame(abs(lm.coef_), X.columns, columns=['Coefficient'])\n",
    "coeff_df['MAE'] = mean_absolute_error(y_test, y_pred)\n",
    "coeff_df['ExpVar'] = explained_variance_score(y_test, y_pred)\n",
    "coeff_df.to_csv('models/model_metrics.csv', index=False)"
   ]
  },
  {
   "cell_type": "code",
   "execution_count": null,
   "metadata": {
    "colab": {},
    "colab_type": "code",
    "id": "4CEOoBLFGUZr"
   },
   "outputs": [],
   "source": []
  }
 ],
 "metadata": {
  "colab": {
   "collapsed_sections": [
    "RtEspslPZyGY",
    "s0DokMkAZyGc",
    "2iuitnKcZyHS",
    "iAWQxougZyHW",
    "ThMTimlBZyHZ",
    "QwZ-LkjXZyHt",
    "srtXEA3N4-Y9",
    "ChVreJupZyIA",
    "zDgSSsq1ZyID",
    "I3GYKWfi5Llg",
    "pmMvrhbI-viE",
    "ZXDPkW3UZyIX",
    "Dnc_vHQLZyId",
    "daJxuJ-dZyIg",
    "mAQ-oHiPZyIn",
    "hnGOsp3mZyIp"
   ],
   "name": "GuidedCapstoneStep6.ipynb",
   "provenance": [],
   "toc_visible": true
  },
  "kernelspec": {
   "display_name": "Python 3",
   "language": "python",
   "name": "python3"
  },
  "language_info": {
   "codemirror_mode": {
    "name": "ipython",
    "version": 3
   },
   "file_extension": ".py",
   "mimetype": "text/x-python",
   "name": "python",
   "nbconvert_exporter": "python",
   "pygments_lexer": "ipython3",
   "version": "3.7.7"
  },
  "toc": {
   "base_numbering": "0",
   "nav_menu": {},
   "number_sections": true,
   "sideBar": true,
   "skip_h1_title": false,
   "title_cell": "Table of Contents",
   "title_sidebar": "Contents",
   "toc_cell": true,
   "toc_position": {
    "height": "calc(100% - 180px)",
    "left": "10px",
    "top": "150px",
    "width": "288px"
   },
   "toc_section_display": true,
   "toc_window_display": true
  }
 },
 "nbformat": 4,
 "nbformat_minor": 1
}
